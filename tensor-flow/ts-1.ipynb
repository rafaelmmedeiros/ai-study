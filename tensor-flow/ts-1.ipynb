﻿{
 "cells": [
  {
   "cell_type": "code",
   "id": "initial_id",
   "metadata": {
    "collapsed": true,
    "ExecuteTime": {
     "end_time": "2025-02-06T00:51:07.702485Z",
     "start_time": "2025-02-06T00:51:06.326360Z"
    }
   },
   "source": "import tensorflow as tf",
   "outputs": [],
   "execution_count": 1
  },
  {
   "metadata": {
    "ExecuteTime": {
     "end_time": "2025-02-06T00:51:10.226330Z",
     "start_time": "2025-02-06T00:51:10.213076Z"
    }
   },
   "cell_type": "code",
   "source": [
    "tensor_zero_d = tf.constant(4)\n",
    "print(tensor_zero_d)"
   ],
   "id": "739e85958ff04d50",
   "outputs": [
    {
     "name": "stdout",
     "output_type": "stream",
     "text": [
      "tf.Tensor(4, shape=(), dtype=int32)\n"
     ]
    }
   ],
   "execution_count": 2
  },
  {
   "metadata": {
    "ExecuteTime": {
     "end_time": "2025-02-06T00:51:14.274286Z",
     "start_time": "2025-02-06T00:51:14.269467Z"
    }
   },
   "cell_type": "code",
   "source": [
    "tensor_one_d = tf.constant([2., 0, -3])\n",
    "print(tensor_one_d)"
   ],
   "id": "51a0fcf10973679e",
   "outputs": [
    {
     "name": "stdout",
     "output_type": "stream",
     "text": [
      "tf.Tensor([ 2.  0. -3.], shape=(3,), dtype=float32)\n"
     ]
    }
   ],
   "execution_count": 3
  },
  {
   "metadata": {
    "ExecuteTime": {
     "end_time": "2025-02-06T00:54:29.008799Z",
     "start_time": "2025-02-06T00:54:29.005290Z"
    }
   },
   "cell_type": "code",
   "source": [
    "tensor_two_d = tf.constant([\n",
    "    [1, 2, 0],\n",
    "    [3, 5, -1],\n",
    "    [1, 5, 6],\n",
    "    [2, 3, 8]\n",
    "])\n",
    "print(tensor_two_d)"
   ],
   "id": "b00abde61e8e87c7",
   "outputs": [
    {
     "name": "stdout",
     "output_type": "stream",
     "text": [
      "tf.Tensor(\n",
      "[[ 1  2  0]\n",
      " [ 3  5 -1]\n",
      " [ 1  5  6]\n",
      " [ 2  3  8]], shape=(4, 3), dtype=int32)\n"
     ]
    }
   ],
   "execution_count": 4
  },
  {
   "metadata": {
    "ExecuteTime": {
     "end_time": "2025-02-06T00:56:35.462233Z",
     "start_time": "2025-02-06T00:56:35.457243Z"
    }
   },
   "cell_type": "code",
   "source": [
    "tensor_three_d = tf.constant([\n",
    "    [[1,2,0],\n",
    "    [3,5,-1]],\n",
    "\n",
    "    [[10,2,0],\n",
    "    [1,0,2]],\n",
    "\n",
    "    [[5,8,0],\n",
    "    [2,7,0]],\n",
    "\n",
    "    [[2,1,9],\n",
    "    [4,-3,32]],\n",
    "\n",
    "])\n",
    "print(tensor_three_d)"
   ],
   "id": "ca49380732b95944",
   "outputs": [
    {
     "name": "stdout",
     "output_type": "stream",
     "text": [
      "tf.Tensor(\n",
      "[[[ 1  2  0]\n",
      "  [ 3  5 -1]]\n",
      "\n",
      " [[10  2  0]\n",
      "  [ 1  0  2]]\n",
      "\n",
      " [[ 5  8  0]\n",
      "  [ 2  7  0]]\n",
      "\n",
      " [[ 2  1  9]\n",
      "  [ 4 -3 32]]], shape=(4, 2, 3), dtype=int32)\n"
     ]
    }
   ],
   "execution_count": 5
  },
  {
   "metadata": {
    "ExecuteTime": {
     "end_time": "2025-02-06T00:57:43.110828Z",
     "start_time": "2025-02-06T00:57:43.108752Z"
    }
   },
   "cell_type": "code",
   "source": "print(tensor_three_d.ndim)",
   "id": "1b6026084ba1b35a",
   "outputs": [
    {
     "name": "stdout",
     "output_type": "stream",
     "text": [
      "3\n"
     ]
    }
   ],
   "execution_count": 6
  }
 ],
 "metadata": {
  "kernelspec": {
   "display_name": "Python 3",
   "language": "python",
   "name": "python3"
  },
  "language_info": {
   "codemirror_mode": {
    "name": "ipython",
    "version": 2
   },
   "file_extension": ".py",
   "mimetype": "text/x-python",
   "name": "python",
   "nbconvert_exporter": "python",
   "pygments_lexer": "ipython2",
   "version": "2.7.6"
  }
 },
 "nbformat": 4,
 "nbformat_minor": 5
}
