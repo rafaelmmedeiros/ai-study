﻿{
 "cells": [
  {
   "cell_type": "code",
   "id": "initial_id",
   "metadata": {
    "collapsed": true,
    "ExecuteTime": {
     "end_time": "2025-02-06T11:06:18.068340Z",
     "start_time": "2025-02-06T11:06:18.066325Z"
    }
   },
   "source": "import tensorflow as tf",
   "outputs": [],
   "execution_count": 8
  },
  {
   "metadata": {
    "ExecuteTime": {
     "end_time": "2025-02-06T11:06:18.075343Z",
     "start_time": "2025-02-06T11:06:18.072344Z"
    }
   },
   "cell_type": "code",
   "source": [
    "tensor_zero_d = tf.constant(4)\n",
    "print(tensor_zero_d)"
   ],
   "id": "739e85958ff04d50",
   "outputs": [
    {
     "name": "stdout",
     "output_type": "stream",
     "text": [
      "tf.Tensor(4, shape=(), dtype=int32)\n"
     ]
    }
   ],
   "execution_count": 9
  },
  {
   "metadata": {
    "ExecuteTime": {
     "end_time": "2025-02-06T11:06:18.107560Z",
     "start_time": "2025-02-06T11:06:18.104541Z"
    }
   },
   "cell_type": "code",
   "source": [
    "tensor_one_d = tf.constant([2., 0, -3])\n",
    "print(tensor_one_d)"
   ],
   "id": "51a0fcf10973679e",
   "outputs": [
    {
     "name": "stdout",
     "output_type": "stream",
     "text": [
      "tf.Tensor([ 2.  0. -3.], shape=(3,), dtype=float32)\n"
     ]
    }
   ],
   "execution_count": 10
  },
  {
   "metadata": {
    "ExecuteTime": {
     "end_time": "2025-02-06T11:06:18.113968Z",
     "start_time": "2025-02-06T11:06:18.110566Z"
    }
   },
   "cell_type": "code",
   "source": [
    "tensor_two_d = tf.constant([\n",
    "    [1, 2, 0],\n",
    "    [3, 5, -1],\n",
    "    [1, 5, 6],\n",
    "    [2, 3, 8]\n",
    "])\n",
    "print(tensor_two_d)"
   ],
   "id": "b00abde61e8e87c7",
   "outputs": [
    {
     "name": "stdout",
     "output_type": "stream",
     "text": [
      "tf.Tensor(\n",
      "[[ 1  2  0]\n",
      " [ 3  5 -1]\n",
      " [ 1  5  6]\n",
      " [ 2  3  8]], shape=(4, 3), dtype=int32)\n"
     ]
    }
   ],
   "execution_count": 11
  },
  {
   "metadata": {
    "ExecuteTime": {
     "end_time": "2025-02-06T11:06:18.126576Z",
     "start_time": "2025-02-06T11:06:18.123484Z"
    }
   },
   "cell_type": "code",
   "source": [
    "tensor_three_d = tf.constant([\n",
    "    [[1,2,0],\n",
    "    [3,5,-1]],\n",
    "\n",
    "    [[10,2,0],\n",
    "    [1,0,2]],\n",
    "\n",
    "    [[5,8,0],\n",
    "    [2,7,0]],\n",
    "\n",
    "    [[2,1,9],\n",
    "    [4,-3,32]],\n",
    "\n",
    "])\n",
    "print(tensor_three_d)"
   ],
   "id": "ca49380732b95944",
   "outputs": [
    {
     "name": "stdout",
     "output_type": "stream",
     "text": [
      "tf.Tensor(\n",
      "[[[ 1  2  0]\n",
      "  [ 3  5 -1]]\n",
      "\n",
      " [[10  2  0]\n",
      "  [ 1  0  2]]\n",
      "\n",
      " [[ 5  8  0]\n",
      "  [ 2  7  0]]\n",
      "\n",
      " [[ 2  1  9]\n",
      "  [ 4 -3 32]]], shape=(4, 2, 3), dtype=int32)\n"
     ]
    }
   ],
   "execution_count": 12
  },
  {
   "metadata": {
    "ExecuteTime": {
     "end_time": "2025-02-06T11:06:18.139407Z",
     "start_time": "2025-02-06T11:06:18.137089Z"
    }
   },
   "cell_type": "code",
   "source": "print(tensor_three_d.ndim)",
   "id": "1b6026084ba1b35a",
   "outputs": [
    {
     "name": "stdout",
     "output_type": "stream",
     "text": [
      "3\n"
     ]
    }
   ],
   "execution_count": 13
  }
 ],
 "metadata": {
  "kernelspec": {
   "display_name": "Python 3",
   "language": "python",
   "name": "python3"
  },
  "language_info": {
   "codemirror_mode": {
    "name": "ipython",
    "version": 2
   },
   "file_extension": ".py",
   "mimetype": "text/x-python",
   "name": "python",
   "nbconvert_exporter": "python",
   "pygments_lexer": "ipython2",
   "version": "2.7.6"
  }
 },
 "nbformat": 4,
 "nbformat_minor": 5
}
