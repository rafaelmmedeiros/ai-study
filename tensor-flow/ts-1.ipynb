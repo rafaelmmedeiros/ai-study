﻿{
 "cells": [
  {
   "cell_type": "code",
   "id": "initial_id",
   "metadata": {
    "collapsed": true,
    "ExecuteTime": {
     "end_time": "2025-02-06T00:34:53.718499Z",
     "start_time": "2025-02-06T00:34:53.716509Z"
    }
   },
   "source": "import tensorflow as tf",
   "outputs": [],
   "execution_count": 7
  },
  {
   "metadata": {
    "ExecuteTime": {
     "end_time": "2025-02-06T00:35:03.401375Z",
     "start_time": "2025-02-06T00:35:03.398418Z"
    }
   },
   "cell_type": "code",
   "source": [
    "tensor_zero_d = tf.constant(4)\n",
    "print(tensor_zero_d)"
   ],
   "id": "739e85958ff04d50",
   "outputs": [
    {
     "name": "stdout",
     "output_type": "stream",
     "text": [
      "tf.Tensor(4, shape=(), dtype=int32)\n"
     ]
    }
   ],
   "execution_count": 9
  },
  {
   "metadata": {
    "ExecuteTime": {
     "end_time": "2025-02-06T00:36:12.685270Z",
     "start_time": "2025-02-06T00:36:12.682777Z"
    }
   },
   "cell_type": "code",
   "source": [
    "tensor_one_d = tf.constant([2, 0, -3])\n",
    "print(tensor_one_d)"
   ],
   "id": "51a0fcf10973679e",
   "outputs": [
    {
     "name": "stdout",
     "output_type": "stream",
     "text": [
      "tf.Tensor([ 2  0 -3], shape=(3,), dtype=int32)\n"
     ]
    }
   ],
   "execution_count": 11
  }
 ],
 "metadata": {
  "kernelspec": {
   "display_name": "Python 3",
   "language": "python",
   "name": "python3"
  },
  "language_info": {
   "codemirror_mode": {
    "name": "ipython",
    "version": 2
   },
   "file_extension": ".py",
   "mimetype": "text/x-python",
   "name": "python",
   "nbconvert_exporter": "python",
   "pygments_lexer": "ipython2",
   "version": "2.7.6"
  }
 },
 "nbformat": 4,
 "nbformat_minor": 5
}
